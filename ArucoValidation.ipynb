{
  "nbformat": 4,
  "nbformat_minor": 0,
  "metadata": {
    "colab": {
      "name": "ArucoValidation.ipynb",
      "provenance": [],
      "collapsed_sections": [],
      "include_colab_link": true
    },
    "kernelspec": {
      "name": "python3",
      "display_name": "Python 3"
    },
    "language_info": {
      "name": "python"
    }
  },
  "cells": [
    {
      "cell_type": "markdown",
      "metadata": {
        "id": "view-in-github",
        "colab_type": "text"
      },
      "source": [
        "<a href=\"https://colab.research.google.com/github/Zilch123/Aruco-3D-position-Validation/blob/main/ArucoValidation.ipynb\" target=\"_parent\"><img src=\"https://colab.research.google.com/assets/colab-badge.svg\" alt=\"Open In Colab\"/></a>"
      ]
    },
    {
      "cell_type": "code",
      "metadata": {
        "id": "dhMbpWS_xkna"
      },
      "source": [
        "# Author1: Timoth Dev \n",
        "# Author2: Arjun Ram \n",
        "# GNU 3.0 Licence "
      ],
      "execution_count": 1,
      "outputs": []
    },
    {
      "cell_type": "code",
      "metadata": {
        "id": "OzfJV5elO7of",
        "colab": {
          "base_uri": "https://localhost:8080/"
        },
        "outputId": "5a18ee62-692f-4379-ca1b-33fb52f053b5"
      },
      "source": [
        "from google.colab import drive\n",
        "drive.mount('/content/drive')"
      ],
      "execution_count": 2,
      "outputs": [
        {
          "output_type": "stream",
          "text": [
            "Mounted at /content/drive\n"
          ],
          "name": "stdout"
        }
      ]
    },
    {
      "cell_type": "code",
      "metadata": {
        "id": "_lL0LV0VNT5H"
      },
      "source": [
        "# !pip install opencv-contrib-python\n",
        "# !git clone https://github.com/ddelago/Aruco-Marker-Calibration-and-Pose-Estimation.git"
      ],
      "execution_count": null,
      "outputs": []
    },
    {
      "cell_type": "code",
      "metadata": {
        "id": "iWT1IJ7uP7xu"
      },
      "source": [
        "import os\n",
        "import sys\n",
        "import pickle\n",
        "import cv2\n",
        "import matplotlib.pyplot as plt\n",
        "import pandas as pd\n",
        "import numpy as np\n",
        "import cv2.aruco as aruco\n",
        "from datetime import datetime\n",
        "import matplotlib.pyplot as plt\n",
        "plt.rcParams[\"figure.figsize\"] = (10,5)\n"
      ],
      "execution_count": 3,
      "outputs": []
    },
    {
      "cell_type": "markdown",
      "metadata": {
        "id": "ty-xVLusKKMW"
      },
      "source": [
        "Type in your drive path to Data, path is the same till MyDrive"
      ]
    },
    {
      "cell_type": "code",
      "metadata": {
        "id": "l9Tp9dCIPGZ6",
        "colab": {
          "base_uri": "https://localhost:8080/"
        },
        "outputId": "295858bd-77a9-4cea-ad98-4883c2a4c70d"
      },
      "source": [
        "cd drive/MyDrive/Aruco\\ CMC\\ project/Data/"
      ],
      "execution_count": 4,
      "outputs": [
        {
          "output_type": "stream",
          "text": [
            "/content/drive/.shortcut-targets-by-id/1bOHe3Wct63zxzPGjAqK-HttE3BVPIieY/Data\n"
          ],
          "name": "stdout"
        }
      ]
    },
    {
      "cell_type": "code",
      "metadata": {
        "colab": {
          "base_uri": "https://localhost:8080/"
        },
        "id": "GVZFjd6DCCVb",
        "outputId": "d69d08cf-c6f3-4ea0-9184-7525cc30abb0"
      },
      "source": [
        "ls Subject\\ 1/Subject\\ 1/Sub\\ 1\\ SB"
      ],
      "execution_count": 5,
      "outputs": [
        {
          "output_type": "stream",
          "text": [
            "color.pickle  subject1.avi              subject1_color.avi  subject1_depth.avi\n",
            "prm.pickle    subject1_color_aruco.avi  subject1_color.mp4  xyz.pickle\n"
          ],
          "name": "stdout"
        }
      ]
    },
    {
      "cell_type": "code",
      "metadata": {
        "id": "kE0-MXi8Ksrj"
      },
      "source": [
        "def read_calib(RotMatrix):\n",
        "    return np.matrix(RotMatrix[0]), np.matrix(RotMatrix[1]).T\n",
        "\n",
        "def kinect2table(orig,R_T,kinect_joint):\n",
        "    Local_co = [np.matmul(R_T.T,(x-orig).T) for x in kinect_joint]\n",
        "    return(np.array(Local_co).squeeze())\n"
      ],
      "execution_count": 152,
      "outputs": []
    },
    {
      "cell_type": "code",
      "metadata": {
        "id": "yC6SAJAdP6qV"
      },
      "source": [
        "with open(\"rotMat_new.pickle\",'rb') as f:\n",
        "    RotMatrix = []\n",
        "    while True:\n",
        "        try:\n",
        "            RotMatrix.append(pickle.load(f))\n",
        "        except EOFError:\n",
        "            break"
      ],
      "execution_count": 140,
      "outputs": []
    },
    {
      "cell_type": "code",
      "metadata": {
        "id": "EkoCk7HJ9g7v"
      },
      "source": [
        "orig, R_T = read_calib(RotMatrix)"
      ],
      "execution_count": 141,
      "outputs": []
    },
    {
      "cell_type": "code",
      "metadata": {
        "colab": {
          "base_uri": "https://localhost:8080/"
        },
        "id": "VZMPMu1I1P6V",
        "outputId": "4c6a46a0-6b7c-40a4-c55d-f85c52a7f9d3"
      },
      "source": [
        "print(orig,'\\n\\n', R_T)"
      ],
      "execution_count": 142,
      "outputs": [
        {
          "output_type": "stream",
          "text": [
            "[[-0.141 -0.251  1.404]] \n",
            "\n",
            " [[ 0.99871538 -0.02327689 -0.023868  ]\n",
            " [-0.00993747 -0.95835113 -0.27631295]\n",
            " [ 0.04968733  0.27619518 -0.96077129]]\n"
          ],
          "name": "stdout"
        }
      ]
    },
    {
      "cell_type": "code",
      "metadata": {
        "colab": {
          "base_uri": "https://localhost:8080/"
        },
        "id": "FPxOklpm8pqT",
        "outputId": "b5d6c7bb-7bb6-4e84-d356-d11d85e8d9de"
      },
      "source": [
        "# https://github.com/ddelago/Aruco-Marker-Calibration-and-Pose-Estimation\n",
        "# Load the Github camera calib profile \n",
        "f = open(\"Aruco-Marker-Calibration-and-Pose-Estimation/calibration/CameraCalibration.pckl\", 'rb')\n",
        "(cameraMatrix, distCoeffs, _, _) = pickle.load(f, encoding='latin1')\n",
        "f.close()\n",
        "\n",
        "# Kinect Calib data\n",
        "# https://github.com/shanilfernando/VRInteraction/blob/master/calibration/rgb_calibration.yaml\n",
        "# cameraMatrix = np.array([[ 1.0327407219495085e+03, 0., 9.5685930301206076e+02],\n",
        "#                          [ 0., 1.0323427647512485e+03, 5.3914133979587950e+02],\n",
        "#                          [0., 0., 1. ]])\n",
        "# distCoeffs=np.array([[ 2.0429028189430772e-02, -7.8399448855923665e-03, \n",
        "#                      -3.0949667668667908e-03, 2.1848647826377197e-03, -5.2344198896187882e-02 ]])\n",
        "\n",
        "print(cameraMatrix, distCoeffs )\n"
      ],
      "execution_count": 143,
      "outputs": [
        {
          "output_type": "stream",
          "text": [
            "[[1.44095165e+03 0.00000000e+00 9.40438869e+02]\n",
            " [0.00000000e+00 1.43677267e+03 5.27992515e+02]\n",
            " [0.00000000e+00 0.00000000e+00 1.00000000e+00]] [[ 0.07833557 -0.51920323 -0.00682128 -0.00380227  1.04236729]]\n"
          ],
          "name": "stdout"
        }
      ]
    },
    {
      "cell_type": "code",
      "metadata": {
        "id": "yDgSJO47QXKm"
      },
      "source": [
        "\n",
        "# Constant parameters used in Aruco methods\n",
        "ARUCO_PARAMETERS = aruco.DetectorParameters_create()\n",
        "ARUCO_DICT = aruco.Dictionary_get(aruco.DICT_5X5_50)\n",
        "\n",
        "# Create grid board object we're using in our video\n",
        "board = aruco.GridBoard_create(\n",
        "        markersX=1,\n",
        "        markersY=1,\n",
        "        markerLength=64,\n",
        "        markerSeparation=0.01,\n",
        "        dictionary=ARUCO_DICT)\n",
        "\n",
        "# Create vectors we'll be using for rotations and translations for postures\n",
        "rotation_vectors, translation_vectors = None, None\n",
        "\n",
        "#axis is just for visualisation of coordinate frame \n",
        "axis = np.float32([[-.5,-.5,0], [-.5,.5,0], [.5,.5,0], [.5,-.5,0],\n",
        "                   [-.5,-.5,1],[-.5,.5,1],[.5,.5,1],[.5,-.5,1] ])\n",
        "\n",
        "# https://stackoverflow.com/questions/46363618/aruco-markers-with-opencv-get-the-3d-corner-coordinates?rq=1\n",
        "def rotate_marker_corners(rvec, markersize, tvec = None):\n",
        "\n",
        "    mhalf = markersize / 2.0\n",
        "\n",
        "    # convert rot vector to rot matrix both do: markerworld -> cam-world\n",
        "    mrv, jacobian = cv2.Rodrigues(rvec)\n",
        "\n",
        "    #in markerworld the corners are all in the xy-plane so z is zero at first\n",
        "    X = mhalf * mrv[:,0] #rotate the x = mhalf\n",
        "    Y = mhalf * mrv[:,1] #rotate the y = mhalf\n",
        "    minusX = X * (-1)\n",
        "    minusY = Y * (-1)\n",
        "\n",
        "    # calculate 4 corners of the marker in camworld. corners are enumerated clockwise\n",
        "    markercorners = []\n",
        "    markercorners.append(np.add(minusX, Y)) #was upper left in markerworld\n",
        "    markercorners.append(np.add(X, Y)) #was upper right in markerworld\n",
        "    markercorners.append(np.add( X, minusY)) #was lower right in markerworld\n",
        "    markercorners.append(np.add(minusX, minusY)) #was lower left in markerworld\n",
        "    # if tvec given, move all by tvec\n",
        "    if tvec is not None:\n",
        "        C = tvec #center of marker in camworld\n",
        "        for i, mc in enumerate(markercorners):\n",
        "            markercorners[i] = np.add(C,mc) #add tvec to each corner\n",
        "    #print('Vec X, Y, C, dot(X,Y)', X,Y,C, np.dot(X,Y)) # just for debug\n",
        "    markercorners = np.array(markercorners,dtype=np.float32) # type needed when used as input to cv2\n",
        "    return markercorners, mrv"
      ],
      "execution_count": 144,
      "outputs": []
    },
    {
      "cell_type": "code",
      "metadata": {
        "id": "jyytdzhWRl18"
      },
      "source": [
        "end_video_no =3\n",
        "kinect_df = {}\n",
        "for subject_number in range(1,end_video_no):\n",
        "  kinect_df_ =pd.DataFrame(columns=['time_raw','kx', 'ky', 'kz', 'ax', 'ay', 'az' ])\n",
        "  (height, width, layers) = (368,432,3)\n",
        "  fps=14.97\n",
        "  fourcc = cv2.VideoWriter_fourcc(*'MP42')\n",
        "  video = cv2.VideoWriter(\"Subject \"+str(subject_number)+\"/Subject \"+str(subject_number)+\n",
        "                          \"/Sub \"+str(subject_number)+\" SB/subject\"+str(subject_number)+\"_color_aruco.avi\", fourcc, float(fps), (width, height))\n",
        "  # video = cv2.VideoWriter(\"'drive'/'MyDrive'/'Aruco CMC project'/'subject1.mp4'\", fourcc, float(fps), (width, height))\n",
        "  i=0\n",
        "  with open(\"Subject \"+str(subject_number)+\"/Subject \"+str(subject_number)+\"/Sub \"+str(subject_number)+\" SB/color.pickle\",'rb') as color_img, \\\n",
        "       open(\"Subject \"+str(subject_number)+\"/Subject \"+str(subject_number)+\"/Sub \"+str(subject_number)+\" SB/xyz.pickle\",'rb') as depth_img, \\\n",
        "       open(\"Subject \"+str(subject_number)+\"/Subject \"+str(subject_number)+\"/Sub \"+str(subject_number)+\" SB/prm.pickle\",'rb') as prm:\n",
        "      while True:\n",
        "          try:\n",
        "            # Change RGB to BGR\n",
        "            color_image = pickle.load(color_img)\n",
        "            Depth_xyz = pickle.load(depth_img)\n",
        "            gray = cv2.cvtColor(color_image, cv2.COLOR_BGR2GRAY)\n",
        "\n",
        "            # Detect Aruco markers\n",
        "            corners, ids, rejectedImgPoints = aruco.detectMarkers(gray, ARUCO_DICT, parameters=ARUCO_PARAMETERS)\n",
        "            # Refine detected markers\n",
        "            # Eliminates markers not part of our board, adds missing markers to the board\n",
        "            corners, ids, rejectedImgPoints, recoveredIds = aruco.refineDetectedMarkers(\n",
        "                image = gray,\n",
        "                board = board,\n",
        "                detectedCorners = corners,\n",
        "                detectedIds = ids,\n",
        "                rejectedCorners = rejectedImgPoints,\n",
        "                cameraMatrix = cameraMatrix,\n",
        "                distCoeffs = distCoeffs)   \n",
        "            ProjectImage = aruco.drawDetectedMarkers(color_image, corners, borderColor=(0, 0, 255))\n",
        "            if ids is not None and len(ids) > 0:\n",
        "              # Estimate the posture per each Aruco marker\n",
        "              rotation_vectors, translation_vectors, _objPoints = aruco.estimatePoseSingleMarkers(corners, 1, cameraMatrix, distCoeffs)\n",
        "\n",
        "              markerCorner = np.array((corners)).reshape((4, 2))\n",
        "              (topLeft, topRight, bottomRight, bottomLeft) = markerCorner\n",
        "\n",
        "              # convert each of the (x, y)-coordinate pairs to integers\n",
        "              topRight = (int(topRight[0]), int(topRight[1]))\n",
        "              bottomRight = (int(bottomRight[0]), int(bottomRight[1]))\n",
        "              bottomLeft = (int(bottomLeft[0]), int(bottomLeft[1]))\n",
        "              topLeft = (int(topLeft[0]), int(topLeft[1]))\n",
        "\n",
        "              # draw the bounding box of the ArUCo detection\n",
        "              cv2.line(ProjectImage, topLeft, topRight, (0, 255, 0), 2)\n",
        "              cv2.line(ProjectImage, topRight, bottomRight, (0, 255, 0), 2)\n",
        "              cv2.line(ProjectImage, bottomRight, bottomLeft, (0, 255, 0), 2)\n",
        "              cv2.line(ProjectImage, bottomLeft, topLeft, (0, 255, 0), 2)\n",
        "\n",
        "              # compute and draw the center (x, y)-coordinates of the\n",
        "              # ArUco marker\n",
        "              cX = int((topLeft[0] + bottomRight[0]) / 2.0)\n",
        "              cY = int((topLeft[1] + bottomRight[1]) / 2.0)\n",
        "              cv2.circle(ProjectImage, (cX, cY), 4, (0, 0, 255), -1)\n",
        "\n",
        "              # 3D Aruco Coordinates \n",
        "              # markercorners_3d, mrv = rotate_marker_corners(rotation_vectors, markersize = 64, tvec = translation_vectors)\n",
        "              \n",
        "              # markerCorner_xyz = np.array((markercorners_3d)).reshape((4, 3))\n",
        "              # (topLeft, topRight, bottomRight, bottomLeft) = markerCorner_xyz\n",
        "\n",
        "              # # convert each of the (x, y)-coordinate pairs to integers\n",
        "              # topRight = (topRight[0], topRight[1], topRight[2])\n",
        "              # bottomRight = (bottomRight[0], bottomRight[1], bottomRight[2])\n",
        "              # bottomLeft = (bottomLeft[0], bottomLeft[1], bottomLeft[2])\n",
        "              # topLeft = (topLeft[0], topLeft[1], topLeft[2])\n",
        "              \n",
        "              # # compute  the center (x, y, z)-coordinates of the\n",
        "              # # ArUco marker\n",
        "              # cX_3d = (topLeft[0] + bottomRight[0]) / 2.0\n",
        "              # cY_3d = (topLeft[1] + bottomRight[1]) / 2.0\n",
        "              # cZ_3d = (topLeft[2] + bottomRight[2]) / 2.0\n",
        "              \n",
        "              kinectxyz = np.append(pd.to_datetime(pickle.load(prm)), kinect2table(orig,R_T,np.array([Depth_xyz[cY][cX]])))\n",
        "              # kxyz_axyz = np.append(kinectxyz, np.array([cX_3d, cY_3d, cZ_3d]))\n",
        "              # print(\"Depth raw \", (Depth_xyz[cY][cX]))\n",
        "              # print(\"tras vec \", translation_vectors)\n",
        "              # print(\"k data \", kinect2table(orig,R_T,np.array([Depth_xyz[cY][cX]])))\n",
        " \n",
        "              kxyz_axyz = np.append(kinectxyz, kinect2table(orig,R_T,translation_vectors))\n",
        "              kinect_df_.loc[len(kinect_df_)] = kxyz_axyz\n",
        "\n",
        "              # print(\"mark \", markercorners_)\n",
        "              # print(\"\\n  \", mrv)\n",
        "            #   for rvec, tvec in zip(rotation_vectors, translation_vectors):\n",
        "            #       if len(sys.argv) == 2 and sys.argv[1] == 'cube':\n",
        "            #           try:\n",
        "            #               imgpts, jac = cv2.projectPoints(axis, rvec, tvec, cameraMatrix, distCoeffs)\n",
        "            #               # ProjectImage = drawCube(ProjectImage, corners, imgpts)\n",
        "            #           except:\n",
        "            #               continue\n",
        "            #       else:    \n",
        "            #         pass\n",
        "            #           # ProjectImage = aruco.drawAxis(ProjectImage, cameraMatrix, distCoeffs, rvec, tvec, 1)\n",
        "            # # cv2.imshow('ProjectImage', ProjectImage)\n",
        "\n",
        "            # video.write(cv2.cvtColor(ProjectImage, cv2.COLOR_RGB2BGR))\n",
        "            i = i+1\n",
        "          except EOFError:\n",
        "            kinect_df_['time'] = (kinect_df_['time_raw'] -kinect_df_['time_raw'][0]).dt.total_seconds()\n",
        "            kinect_df[subject_number] = kinect_df_\n",
        "            \n",
        "            break\n",
        "  # video.release()\n",
        "  # !ffmpeg -y -loglevel info -i subject3_color.avi subject3_color.mp4"
      ],
      "execution_count": 153,
      "outputs": []
    },
    {
      "cell_type": "code",
      "metadata": {
        "colab": {
          "base_uri": "https://localhost:8080/",
          "height": 414
        },
        "id": "t-Hb9mOVZrEl",
        "outputId": "26849c18-c2d7-428e-d957-14cdb65b64c8"
      },
      "source": [
        "kinect_df[1]"
      ],
      "execution_count": 154,
      "outputs": [
        {
          "output_type": "execute_result",
          "data": {
            "text/html": [
              "<div>\n",
              "<style scoped>\n",
              "    .dataframe tbody tr th:only-of-type {\n",
              "        vertical-align: middle;\n",
              "    }\n",
              "\n",
              "    .dataframe tbody tr th {\n",
              "        vertical-align: top;\n",
              "    }\n",
              "\n",
              "    .dataframe thead th {\n",
              "        text-align: right;\n",
              "    }\n",
              "</style>\n",
              "<table border=\"1\" class=\"dataframe\">\n",
              "  <thead>\n",
              "    <tr style=\"text-align: right;\">\n",
              "      <th></th>\n",
              "      <th>time_raw</th>\n",
              "      <th>kx</th>\n",
              "      <th>ky</th>\n",
              "      <th>kz</th>\n",
              "      <th>ax</th>\n",
              "      <th>ay</th>\n",
              "      <th>az</th>\n",
              "      <th>time</th>\n",
              "    </tr>\n",
              "  </thead>\n",
              "  <tbody>\n",
              "    <tr>\n",
              "      <th>0</th>\n",
              "      <td>2021-07-03 13:06:40.174130</td>\n",
              "      <td>30.810116</td>\n",
              "      <td>443.035996</td>\n",
              "      <td>-1227.932036</td>\n",
              "      <td>-29.100336</td>\n",
              "      <td>31.681223</td>\n",
              "      <td>-57.180500</td>\n",
              "      <td>0.000000</td>\n",
              "    </tr>\n",
              "    <tr>\n",
              "      <th>1</th>\n",
              "      <td>2021-07-03 13:06:40.241936</td>\n",
              "      <td>30.909491</td>\n",
              "      <td>443.588386</td>\n",
              "      <td>-1229.853579</td>\n",
              "      <td>-29.100336</td>\n",
              "      <td>31.681223</td>\n",
              "      <td>-57.180500</td>\n",
              "      <td>0.067806</td>\n",
              "    </tr>\n",
              "    <tr>\n",
              "      <th>2</th>\n",
              "      <td>2021-07-03 13:06:40.311387</td>\n",
              "      <td>31.058553</td>\n",
              "      <td>444.416971</td>\n",
              "      <td>-1232.735893</td>\n",
              "      <td>-29.100336</td>\n",
              "      <td>31.681223</td>\n",
              "      <td>-57.180500</td>\n",
              "      <td>0.137257</td>\n",
              "    </tr>\n",
              "    <tr>\n",
              "      <th>3</th>\n",
              "      <td>2021-07-03 13:06:40.374161</td>\n",
              "      <td>30.859803</td>\n",
              "      <td>443.312191</td>\n",
              "      <td>-1228.892808</td>\n",
              "      <td>-29.100336</td>\n",
              "      <td>31.681223</td>\n",
              "      <td>-57.180500</td>\n",
              "      <td>0.200031</td>\n",
              "    </tr>\n",
              "    <tr>\n",
              "      <th>4</th>\n",
              "      <td>2021-07-03 13:06:40.445442</td>\n",
              "      <td>30.909491</td>\n",
              "      <td>443.588386</td>\n",
              "      <td>-1229.853579</td>\n",
              "      <td>-29.100336</td>\n",
              "      <td>31.681223</td>\n",
              "      <td>-57.180500</td>\n",
              "      <td>0.271312</td>\n",
              "    </tr>\n",
              "    <tr>\n",
              "      <th>...</th>\n",
              "      <td>...</td>\n",
              "      <td>...</td>\n",
              "      <td>...</td>\n",
              "      <td>...</td>\n",
              "      <td>...</td>\n",
              "      <td>...</td>\n",
              "      <td>...</td>\n",
              "      <td>...</td>\n",
              "    </tr>\n",
              "    <tr>\n",
              "      <th>2064</th>\n",
              "      <td>2021-07-03 13:08:57.924399</td>\n",
              "      <td>21.881303</td>\n",
              "      <td>444.480034</td>\n",
              "      <td>-1228.401683</td>\n",
              "      <td>-28.533999</td>\n",
              "      <td>31.200963</td>\n",
              "      <td>-56.386695</td>\n",
              "      <td>137.750269</td>\n",
              "    </tr>\n",
              "    <tr>\n",
              "      <th>2065</th>\n",
              "      <td>2021-07-03 13:08:57.985404</td>\n",
              "      <td>21.881303</td>\n",
              "      <td>444.480034</td>\n",
              "      <td>-1228.401683</td>\n",
              "      <td>-28.533999</td>\n",
              "      <td>31.200963</td>\n",
              "      <td>-56.386695</td>\n",
              "      <td>137.811274</td>\n",
              "    </tr>\n",
              "    <tr>\n",
              "      <th>2066</th>\n",
              "      <td>2021-07-03 13:08:58.061788</td>\n",
              "      <td>21.732241</td>\n",
              "      <td>443.651448</td>\n",
              "      <td>-1225.519369</td>\n",
              "      <td>-28.533999</td>\n",
              "      <td>31.200963</td>\n",
              "      <td>-56.386695</td>\n",
              "      <td>137.887658</td>\n",
              "    </tr>\n",
              "    <tr>\n",
              "      <th>2067</th>\n",
              "      <td>2021-07-03 13:08:58.124285</td>\n",
              "      <td>21.781928</td>\n",
              "      <td>443.927643</td>\n",
              "      <td>-1226.480140</td>\n",
              "      <td>-28.533999</td>\n",
              "      <td>31.200963</td>\n",
              "      <td>-56.386695</td>\n",
              "      <td>137.950155</td>\n",
              "    </tr>\n",
              "    <tr>\n",
              "      <th>2068</th>\n",
              "      <td>2021-07-03 13:08:58.184878</td>\n",
              "      <td>21.930990</td>\n",
              "      <td>444.756229</td>\n",
              "      <td>-1229.362454</td>\n",
              "      <td>-28.533999</td>\n",
              "      <td>31.200963</td>\n",
              "      <td>-56.386695</td>\n",
              "      <td>138.010748</td>\n",
              "    </tr>\n",
              "  </tbody>\n",
              "</table>\n",
              "<p>2069 rows × 8 columns</p>\n",
              "</div>"
            ],
            "text/plain": [
              "                       time_raw         kx  ...         az        time\n",
              "0    2021-07-03 13:06:40.174130  30.810116  ... -57.180500    0.000000\n",
              "1    2021-07-03 13:06:40.241936  30.909491  ... -57.180500    0.067806\n",
              "2    2021-07-03 13:06:40.311387  31.058553  ... -57.180500    0.137257\n",
              "3    2021-07-03 13:06:40.374161  30.859803  ... -57.180500    0.200031\n",
              "4    2021-07-03 13:06:40.445442  30.909491  ... -57.180500    0.271312\n",
              "...                         ...        ...  ...        ...         ...\n",
              "2064 2021-07-03 13:08:57.924399  21.881303  ... -56.386695  137.750269\n",
              "2065 2021-07-03 13:08:57.985404  21.881303  ... -56.386695  137.811274\n",
              "2066 2021-07-03 13:08:58.061788  21.732241  ... -56.386695  137.887658\n",
              "2067 2021-07-03 13:08:58.124285  21.781928  ... -56.386695  137.950155\n",
              "2068 2021-07-03 13:08:58.184878  21.930990  ... -56.386695  138.010748\n",
              "\n",
              "[2069 rows x 8 columns]"
            ]
          },
          "metadata": {
            "tags": []
          },
          "execution_count": 154
        }
      ]
    },
    {
      "cell_type": "code",
      "metadata": {
        "id": "kTdciwdkKTRu",
        "colab": {
          "base_uri": "https://localhost:8080/"
        },
        "outputId": "f7fde103-7424-40c9-863d-75a587415e0d"
      },
      "source": [
        "#Get kinect and mocap data \n",
        "# Get the time delay between Kinect and Mocap \n",
        "# Trunkate the data\n",
        "Time_delay={}\n",
        "df_mocap={}\n",
        "kinect_mocap = {}\n",
        "for video_no in range(1,3):\n",
        "  with open(\"Subject \"+str(video_no)+\"/Subject \"+str(video_no)+\"/Sub \"+str(video_no)+\" MC.csv\") as Mocap_data:\n",
        "\n",
        "      df_mocap[video_no] = pd.read_csv(Mocap_data)\n",
        "      opti_time = datetime.strptime(df_mocap[video_no].columns[11], '%Y-%m-%d %I.%M.%S.%f %p')\n",
        " \n",
        "      kinect_time = kinect_df[video_no]['time_raw'][0]\n",
        "\n",
        "      print(\"Kinect Start\", kinect_time,\" Opti Start\",opti_time)\n",
        "      Time_delay[video_no] = (kinect_time-opti_time).total_seconds()\n",
        "      print(Time_delay[video_no])\n",
        "      \n",
        "      df_mocap[video_no].columns = df_mocap[video_no].iloc[4][:2].append(df_mocap[video_no].loc[1][2:].str.replace(r':', '_') + df_mocap[video_no].loc[4][2:])\n",
        "      df_mocap[video_no] = df_mocap[video_no].iloc[5:].dropna(axis=1, how='all')\n",
        "      df_mocap[video_no] = df_mocap[video_no].reset_index(drop=True)\n",
        "      df_mocap[video_no] = df_mocap[video_no].astype(np.float64)\n",
        "\n",
        "      kinect_mocap[video_no] = kinect_df[video_no].copy()\n",
        "      kinect_mocap[video_no]['kx'] = kinect_mocap[video_no]['kx'].astype(int)\n",
        "      kinect_mocap[video_no]['ky'] = kinect_mocap[video_no]['ky'].astype(int)\n",
        "      kinect_mocap[video_no]['kz'] = kinect_mocap[video_no]['kz'].astype(int)\n",
        "      kinect_mocap[video_no]['time_rounded'] = round(kinect_mocap[video_no]['time'],2)\n",
        "      kinect_mocap[video_no].loc[kinect_mocap[video_no]['time_rounded']>=round(Time_delay[1],2)]\n",
        "      kinect_mocap[video_no]['Time (Seconds)'] = kinect_mocap[video_no]['time_rounded'] - kinect_mocap[video_no]['time_rounded'][0]\n",
        "      kinect_mocap[video_no] = kinect_mocap[video_no][['Time (Seconds)', 'kx',\t'ky',\t'kz',\t'ax',\t'ay',\t'az']]\n",
        "      kinect_mocap[video_no] = kinect_mocap[video_no].merge(df_mocap[video_no], how='inner', on='Time (Seconds)')"
      ],
      "execution_count": 155,
      "outputs": [
        {
          "output_type": "stream",
          "text": [
            "Kinect Start 2021-07-03 13:06:40.174130  Opti Start 2021-07-03 13:06:38.066000\n",
            "2.10813\n",
            "Kinect Start 2021-07-03 13:13:38.363945  Opti Start 2021-07-03 13:13:36.002000\n",
            "2.361945\n"
          ],
          "name": "stdout"
        }
      ]
    },
    {
      "cell_type": "code",
      "metadata": {
        "colab": {
          "base_uri": "https://localhost:8080/",
          "height": 451
        },
        "id": "RGf4JLSHBcOB",
        "outputId": "972b084d-cc72-4954-ee35-1e7d6a0d49d7"
      },
      "source": [
        "kinect_mocap[1]"
      ],
      "execution_count": 156,
      "outputs": [
        {
          "output_type": "execute_result",
          "data": {
            "text/html": [
              "<div>\n",
              "<style scoped>\n",
              "    .dataframe tbody tr th:only-of-type {\n",
              "        vertical-align: middle;\n",
              "    }\n",
              "\n",
              "    .dataframe tbody tr th {\n",
              "        vertical-align: top;\n",
              "    }\n",
              "\n",
              "    .dataframe thead th {\n",
              "        text-align: right;\n",
              "    }\n",
              "</style>\n",
              "<table border=\"1\" class=\"dataframe\">\n",
              "  <thead>\n",
              "    <tr style=\"text-align: right;\">\n",
              "      <th></th>\n",
              "      <th>Time (Seconds)</th>\n",
              "      <th>kx</th>\n",
              "      <th>ky</th>\n",
              "      <th>kz</th>\n",
              "      <th>ax</th>\n",
              "      <th>ay</th>\n",
              "      <th>az</th>\n",
              "      <th>Frame</th>\n",
              "      <th>Skateboard_LX</th>\n",
              "      <th>Skateboard_LY</th>\n",
              "      <th>Skateboard_LZ</th>\n",
              "      <th>Skateboard_MX</th>\n",
              "      <th>Skateboard_MY</th>\n",
              "      <th>Skateboard_MZ</th>\n",
              "      <th>Skateboard_RX</th>\n",
              "      <th>Skateboard_RY</th>\n",
              "      <th>Skateboard_RZ</th>\n",
              "    </tr>\n",
              "  </thead>\n",
              "  <tbody>\n",
              "    <tr>\n",
              "      <th>0</th>\n",
              "      <td>0.00</td>\n",
              "      <td>30</td>\n",
              "      <td>443</td>\n",
              "      <td>-1227</td>\n",
              "      <td>-29.100336</td>\n",
              "      <td>31.681223</td>\n",
              "      <td>-57.180500</td>\n",
              "      <td>0.0</td>\n",
              "      <td>0.092441</td>\n",
              "      <td>0.164468</td>\n",
              "      <td>0.062579</td>\n",
              "      <td>-0.017257</td>\n",
              "      <td>0.165684</td>\n",
              "      <td>0.051018</td>\n",
              "      <td>0.083905</td>\n",
              "      <td>0.164741</td>\n",
              "      <td>0.166770</td>\n",
              "    </tr>\n",
              "    <tr>\n",
              "      <th>1</th>\n",
              "      <td>0.07</td>\n",
              "      <td>30</td>\n",
              "      <td>443</td>\n",
              "      <td>-1229</td>\n",
              "      <td>-29.100336</td>\n",
              "      <td>31.681223</td>\n",
              "      <td>-57.180500</td>\n",
              "      <td>7.0</td>\n",
              "      <td>0.092436</td>\n",
              "      <td>0.164435</td>\n",
              "      <td>0.062573</td>\n",
              "      <td>-0.017272</td>\n",
              "      <td>0.165613</td>\n",
              "      <td>0.051013</td>\n",
              "      <td>0.083908</td>\n",
              "      <td>0.164698</td>\n",
              "      <td>0.166768</td>\n",
              "    </tr>\n",
              "    <tr>\n",
              "      <th>2</th>\n",
              "      <td>0.14</td>\n",
              "      <td>31</td>\n",
              "      <td>444</td>\n",
              "      <td>-1232</td>\n",
              "      <td>-29.100336</td>\n",
              "      <td>31.681223</td>\n",
              "      <td>-57.180500</td>\n",
              "      <td>14.0</td>\n",
              "      <td>0.092440</td>\n",
              "      <td>0.164453</td>\n",
              "      <td>0.062565</td>\n",
              "      <td>-0.017268</td>\n",
              "      <td>0.165707</td>\n",
              "      <td>0.050975</td>\n",
              "      <td>0.083868</td>\n",
              "      <td>0.164770</td>\n",
              "      <td>0.166737</td>\n",
              "    </tr>\n",
              "    <tr>\n",
              "      <th>3</th>\n",
              "      <td>0.20</td>\n",
              "      <td>30</td>\n",
              "      <td>443</td>\n",
              "      <td>-1228</td>\n",
              "      <td>-29.100336</td>\n",
              "      <td>31.681223</td>\n",
              "      <td>-57.180500</td>\n",
              "      <td>20.0</td>\n",
              "      <td>0.092443</td>\n",
              "      <td>0.164444</td>\n",
              "      <td>0.062578</td>\n",
              "      <td>-0.017269</td>\n",
              "      <td>0.165669</td>\n",
              "      <td>0.051007</td>\n",
              "      <td>0.083911</td>\n",
              "      <td>0.164681</td>\n",
              "      <td>0.166750</td>\n",
              "    </tr>\n",
              "    <tr>\n",
              "      <th>4</th>\n",
              "      <td>0.27</td>\n",
              "      <td>30</td>\n",
              "      <td>443</td>\n",
              "      <td>-1229</td>\n",
              "      <td>-29.100336</td>\n",
              "      <td>31.681223</td>\n",
              "      <td>-57.180500</td>\n",
              "      <td>27.0</td>\n",
              "      <td>0.092447</td>\n",
              "      <td>0.164441</td>\n",
              "      <td>0.062564</td>\n",
              "      <td>-0.017241</td>\n",
              "      <td>0.165663</td>\n",
              "      <td>0.050979</td>\n",
              "      <td>0.083887</td>\n",
              "      <td>0.164772</td>\n",
              "      <td>0.166737</td>\n",
              "    </tr>\n",
              "    <tr>\n",
              "      <th>...</th>\n",
              "      <td>...</td>\n",
              "      <td>...</td>\n",
              "      <td>...</td>\n",
              "      <td>...</td>\n",
              "      <td>...</td>\n",
              "      <td>...</td>\n",
              "      <td>...</td>\n",
              "      <td>...</td>\n",
              "      <td>...</td>\n",
              "      <td>...</td>\n",
              "      <td>...</td>\n",
              "      <td>...</td>\n",
              "      <td>...</td>\n",
              "      <td>...</td>\n",
              "      <td>...</td>\n",
              "      <td>...</td>\n",
              "      <td>...</td>\n",
              "    </tr>\n",
              "    <tr>\n",
              "      <th>2064</th>\n",
              "      <td>137.75</td>\n",
              "      <td>21</td>\n",
              "      <td>444</td>\n",
              "      <td>-1228</td>\n",
              "      <td>-28.533999</td>\n",
              "      <td>31.200963</td>\n",
              "      <td>-56.386695</td>\n",
              "      <td>13775.0</td>\n",
              "      <td>0.028753</td>\n",
              "      <td>0.169414</td>\n",
              "      <td>0.365950</td>\n",
              "      <td>-0.052646</td>\n",
              "      <td>0.169577</td>\n",
              "      <td>0.291498</td>\n",
              "      <td>-0.038984</td>\n",
              "      <td>0.168614</td>\n",
              "      <td>0.445326</td>\n",
              "    </tr>\n",
              "    <tr>\n",
              "      <th>2065</th>\n",
              "      <td>137.81</td>\n",
              "      <td>21</td>\n",
              "      <td>444</td>\n",
              "      <td>-1228</td>\n",
              "      <td>-28.533999</td>\n",
              "      <td>31.200963</td>\n",
              "      <td>-56.386695</td>\n",
              "      <td>13781.0</td>\n",
              "      <td>0.024982</td>\n",
              "      <td>0.169269</td>\n",
              "      <td>0.372059</td>\n",
              "      <td>-0.055483</td>\n",
              "      <td>0.169456</td>\n",
              "      <td>0.296431</td>\n",
              "      <td>-0.043731</td>\n",
              "      <td>0.168771</td>\n",
              "      <td>0.450441</td>\n",
              "    </tr>\n",
              "    <tr>\n",
              "      <th>2066</th>\n",
              "      <td>137.89</td>\n",
              "      <td>21</td>\n",
              "      <td>443</td>\n",
              "      <td>-1225</td>\n",
              "      <td>-28.533999</td>\n",
              "      <td>31.200963</td>\n",
              "      <td>-56.386695</td>\n",
              "      <td>13789.0</td>\n",
              "      <td>0.020982</td>\n",
              "      <td>0.169545</td>\n",
              "      <td>0.378356</td>\n",
              "      <td>-0.058244</td>\n",
              "      <td>0.169520</td>\n",
              "      <td>0.301624</td>\n",
              "      <td>-0.048858</td>\n",
              "      <td>0.168952</td>\n",
              "      <td>0.455647</td>\n",
              "    </tr>\n",
              "    <tr>\n",
              "      <th>2067</th>\n",
              "      <td>137.95</td>\n",
              "      <td>21</td>\n",
              "      <td>443</td>\n",
              "      <td>-1226</td>\n",
              "      <td>-28.533999</td>\n",
              "      <td>31.200963</td>\n",
              "      <td>-56.386695</td>\n",
              "      <td>13795.0</td>\n",
              "      <td>0.019264</td>\n",
              "      <td>0.169792</td>\n",
              "      <td>0.381080</td>\n",
              "      <td>-0.059699</td>\n",
              "      <td>0.169577</td>\n",
              "      <td>0.304071</td>\n",
              "      <td>-0.050993</td>\n",
              "      <td>0.168971</td>\n",
              "      <td>0.457881</td>\n",
              "    </tr>\n",
              "    <tr>\n",
              "      <th>2068</th>\n",
              "      <td>138.01</td>\n",
              "      <td>21</td>\n",
              "      <td>444</td>\n",
              "      <td>-1229</td>\n",
              "      <td>-28.533999</td>\n",
              "      <td>31.200963</td>\n",
              "      <td>-56.386695</td>\n",
              "      <td>13801.0</td>\n",
              "      <td>0.018680</td>\n",
              "      <td>0.169663</td>\n",
              "      <td>0.381882</td>\n",
              "      <td>-0.060106</td>\n",
              "      <td>0.169644</td>\n",
              "      <td>0.304608</td>\n",
              "      <td>-0.051617</td>\n",
              "      <td>0.168829</td>\n",
              "      <td>0.458391</td>\n",
              "    </tr>\n",
              "  </tbody>\n",
              "</table>\n",
              "<p>2069 rows × 17 columns</p>\n",
              "</div>"
            ],
            "text/plain": [
              "      Time (Seconds)  kx   ky  ...  Skateboard_RX  Skateboard_RY  Skateboard_RZ\n",
              "0               0.00  30  443  ...       0.083905       0.164741       0.166770\n",
              "1               0.07  30  443  ...       0.083908       0.164698       0.166768\n",
              "2               0.14  31  444  ...       0.083868       0.164770       0.166737\n",
              "3               0.20  30  443  ...       0.083911       0.164681       0.166750\n",
              "4               0.27  30  443  ...       0.083887       0.164772       0.166737\n",
              "...              ...  ..  ...  ...            ...            ...            ...\n",
              "2064          137.75  21  444  ...      -0.038984       0.168614       0.445326\n",
              "2065          137.81  21  444  ...      -0.043731       0.168771       0.450441\n",
              "2066          137.89  21  443  ...      -0.048858       0.168952       0.455647\n",
              "2067          137.95  21  443  ...      -0.050993       0.168971       0.457881\n",
              "2068          138.01  21  444  ...      -0.051617       0.168829       0.458391\n",
              "\n",
              "[2069 rows x 17 columns]"
            ]
          },
          "metadata": {
            "tags": []
          },
          "execution_count": 156
        }
      ]
    },
    {
      "cell_type": "code",
      "metadata": {
        "id": "7TBKiVd4agUC"
      },
      "source": [
        "kinect_mocap[11] = kinect_mocap[1] - kinect_mocap[1].loc[0].values.squeeze()\n",
        "from scipy import stats\n",
        "kinect_mocap[11] = kinect_mocap[11][(np.abs(stats.zscore(kinect_mocap[11])) < 1).all(axis=1)]\n",
        "\n",
        "kinect_mocap[22] = kinect_mocap[2] - kinect_mocap[2].loc[0].values.squeeze()\n"
      ],
      "execution_count": 163,
      "outputs": []
    },
    {
      "cell_type": "code",
      "metadata": {
        "colab": {
          "base_uri": "https://localhost:8080/",
          "height": 369
        },
        "id": "JtCiGIQypLeZ",
        "outputId": "f7257aa2-cc26-45be-9268-477945b47c96"
      },
      "source": [
        "fig, ax = plt.subplots(3,3)\n",
        "# Note that ax is now an array consisting of the individual axis\n",
        "plt.xlabel('fps')\n",
        "plt.ylabel('distance')\n",
        "\n",
        "ax[0,0].plot(kinect_mocap[22]['ax'])\n",
        "ax[0,0].set_title('ax')\n",
        "ax[0,0].set_xlabel('fps')\n",
        "ax[0,0].set_ylabel('distance')\n",
        "\n",
        "ax[0,1].plot(kinect_mocap[22]['ay'])\n",
        "ax[0,1].set_title('ay')\n",
        "ax[0,1].set_xlabel('fps')\n",
        "ax[0,1].set_ylabel('distance')\n",
        "\n",
        "ax[0,2].plot(kinect_mocap[22]['az'])\n",
        "ax[0,2].set_title('az')\n",
        "ax[0,2].set_xlabel('fps')\n",
        "ax[0,2].set_ylabel('distance')\n",
        "\n",
        "ax[1,0].plot(kinect_mocap[22]['Skateboard_LX'])\n",
        "ax[1,0].set_title('LX')\n",
        "ax[1,0].set_xlabel('fps')\n",
        "ax[1,0].set_ylabel('distance')\n",
        "\n",
        "ax[1,1].plot(kinect_mocap[22]['Skateboard_LY'])\n",
        "ax[1,1].set_title('LY')\n",
        "ax[1,1].set_xlabel('fps')\n",
        "ax[1,1].set_ylabel('distance')\n",
        "\n",
        "ax[1,2].plot(kinect_mocap[22]['Skateboard_LZ'])\n",
        "ax[1,2].set_title('LZ')\n",
        "ax[1,2].set_xlabel('fps')\n",
        "ax[1,2].set_ylabel('distance')\n",
        "\n",
        "ax[2,0].plot(kinect_mocap[22]['kx'])\n",
        "ax[2,0].set_title('KX')\n",
        "ax[2,0].set_xlabel('fps')\n",
        "ax[2,0].set_ylabel('distance')\n",
        "\n",
        "ax[2,1].plot(kinect_mocap[22]['ky'])\n",
        "ax[2,1].set_title('KY')\n",
        "ax[2,1].set_xlabel('fps')\n",
        "ax[2,1].set_ylabel('distance')\n",
        "\n",
        "ax[2,2].plot(kinect_mocap[22]['kz'])\n",
        "ax[2,2].set_title('KZ')\n",
        "ax[2,2].set_xlabel('fps')\n",
        "ax[2,2].set_ylabel('distance')\n",
        "\n",
        "\n",
        "\n",
        "plt.tight_layout()"
      ],
      "execution_count": 164,
      "outputs": [
        {
          "output_type": "display_data",
          "data": {
            "image/png": "[encoded data removed]",
            "text/plain": [
              "<Figure size 720x360 with 9 Axes>"
            ]
          },
          "metadata": {
            "tags": [],
            "needs_background": "light"
          }
        }
      ]
    },
    {
      "cell_type": "code",
      "metadata": {
        "id": "2LrJx5CWMTDt"
      },
      "source": [
        ""
      ],
      "execution_count": 162,
      "outputs": []
    }
  ]
}