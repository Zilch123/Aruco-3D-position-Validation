{
  "nbformat": 4,
  "nbformat_minor": 0,
  "metadata": {
    "colab": {
      "name": "ArucoValidation.ipynb",
      "provenance": [],
      "collapsed_sections": [],
      "include_colab_link": true
    },
    "kernelspec": {
      "name": "python3",
      "display_name": "Python 3"
    },
    "language_info": {
      "name": "python"
    }
  },
  "cells": [
    {
      "cell_type": "markdown",
      "metadata": {
        "id": "view-in-github",
        "colab_type": "text"
      },
      "source": [
        "<a href=\"https://colab.research.google.com/github/Zilch123/Aruco-3D-position-Validation/blob/main/ArucoValidation.ipynb\" target=\"_parent\"><img src=\"https://colab.research.google.com/assets/colab-badge.svg\" alt=\"Open In Colab\"/></a>"
      ]
    },
    {
      "cell_type": "code",
      "metadata": {
        "id": "dhMbpWS_xkna"
      },
      "source": [
        "# Author1: Timoth Dev \n",
        "# Author2: Arjun Ram \n",
        "# GNU 3.0 Licence "
      ],
      "execution_count": null,
      "outputs": []
    },
    {
      "cell_type": "code",
      "metadata": {
        "id": "OzfJV5elO7of",
        "colab": {
          "base_uri": "https://localhost:8080/"
        },
        "outputId": "f4ec6374-f99f-429e-e278-40674129af21"
      },
      "source": [
        "from google.colab import drive\n",
        "drive.mount('/content/drive')"
      ],
      "execution_count": null,
      "outputs": [
        {
          "output_type": "stream",
          "text": [
            "Mounted at /content/drive\n"
          ],
          "name": "stdout"
        }
      ]
    },
    {
      "cell_type": "code",
      "metadata": {
        "id": "_lL0LV0VNT5H"
      },
      "source": [
        "# !pip install opencv-contrib-python\n",
        "# !git clone https://github.com/ddelago/Aruco-Marker-Calibration-and-Pose-Estimation.git"
      ],
      "execution_count": null,
      "outputs": []
    },
    {
      "cell_type": "code",
      "metadata": {
        "id": "iWT1IJ7uP7xu"
      },
      "source": [
        "import os\n",
        "import sys\n",
        "import pickle\n",
        "import cv2\n",
        "import matplotlib.pyplot as plt\n",
        "import pandas as pd\n",
        "import numpy as np\n",
        "import cv2.aruco as aruco\n",
        "from datetime import datetime\n",
        "import matplotlib.pyplot as plt\n",
        "from scipy.signal import savgol_filter\n",
        "from scipy import stats\n",
        "\n",
        "plt.rcParams[\"figure.figsize\"] = (10,5)\n"
      ],
      "execution_count": null,
      "outputs": []
    },
    {
      "cell_type": "markdown",
      "metadata": {
        "id": "ty-xVLusKKMW"
      },
      "source": [
        "Type in your drive path to Data, path is the same till MyDrive"
      ]
    },
    {
      "cell_type": "code",
      "metadata": {
        "id": "l9Tp9dCIPGZ6",
        "colab": {
          "base_uri": "https://localhost:8080/"
        },
        "outputId": "1c1c84d3-25ed-40ed-c4ae-c715d14440f9"
      },
      "source": [
        "cd drive/MyDrive/Aruco\\ CMC\\ project/Data/"
      ],
      "execution_count": null,
      "outputs": [
        {
          "output_type": "stream",
          "text": [
            "/content/drive/.shortcut-targets-by-id/1bOHe3Wct63zxzPGjAqK-HttE3BVPIieY/Data\n"
          ],
          "name": "stdout"
        }
      ]
    },
    {
      "cell_type": "code",
      "metadata": {
        "colab": {
          "base_uri": "https://localhost:8080/"
        },
        "id": "GVZFjd6DCCVb",
        "outputId": "c44675ad-e108-4864-efaf-2f47ae54e230"
      },
      "source": [
        "ls Subject\\ 1/Subject\\ 1/Sub\\ 1\\ SB"
      ],
      "execution_count": null,
      "outputs": [
        {
          "output_type": "stream",
          "text": [
            "color.pickle  subject1.avi              subject1_color.avi  subject1_depth.avi\n",
            "prm.pickle    subject1_color_aruco.avi  subject1_color.mp4  xyz.pickle\n"
          ],
          "name": "stdout"
        }
      ]
    },
    {
      "cell_type": "code",
      "metadata": {
        "id": "kE0-MXi8Ksrj"
      },
      "source": [
        "def read_calib(RotMatrix):\n",
        "    return np.matrix(RotMatrix[0]), np.matrix(RotMatrix[1])\n",
        "\n",
        "\n",
        "def kinect2table(orig,R_T,kinect_joint):\n",
        "    Local_co = [np.matmul(R_T.T,(x-orig).T) for x in kinect_joint]\n",
        "    return(np.array(Local_co).squeeze())\n",
        "\n",
        "\n",
        "def my_filter(x):\n",
        "    return savgol_filter(x, 3, 1)\n"
      ],
      "execution_count": null,
      "outputs": []
    },
    {
      "cell_type": "code",
      "metadata": {
        "id": "yC6SAJAdP6qV",
        "colab": {
          "base_uri": "https://localhost:8080/"
        },
        "outputId": "7b1b1f4e-df02-4a11-872a-a0db602a4ed9"
      },
      "source": [
        "with open(\"rotMat_new.pickle\",'rb') as f:\n",
        "    RotMatrix = []\n",
        "    while True:\n",
        "        try:\n",
        "            RotMatrix.append(pickle.load(f))\n",
        "            \n",
        "        except EOFError:\n",
        "            print(RotMatrix[1])\n",
        "            RotMatrix[1][[0, 2]] = -RotMatrix[1][[2, 0]]\n",
        "            RotMatrix[1][:,1] = - RotMatrix[1][:,1]\n",
        "            break"
      ],
      "execution_count": null,
      "outputs": [
        {
          "output_type": "stream",
          "text": [
            "[[ 0.99871538 -0.02327689 -0.023868  ]\n",
            " [-0.00993747 -0.95835113 -0.27631295]\n",
            " [ 0.04968733  0.27619518 -0.96077129]]\n"
          ],
          "name": "stdout"
        }
      ]
    },
    {
      "cell_type": "code",
      "metadata": {
        "colab": {
          "base_uri": "https://localhost:8080/"
        },
        "id": "V58bhAXWl-Xy",
        "outputId": "6d76ecfd-a92a-4ee3-c9dd-d980d09d4cc8"
      },
      "source": [
        "RotMatrix[1][:,1]"
      ],
      "execution_count": null,
      "outputs": [
        {
          "output_type": "execute_result",
          "data": {
            "text/plain": [
              "array([ 0.27619518,  0.95835113, -0.02327689])"
            ]
          },
          "metadata": {
            "tags": []
          },
          "execution_count": 92
        }
      ]
    },
    {
      "cell_type": "code",
      "metadata": {
        "id": "EkoCk7HJ9g7v"
      },
      "source": [
        "orig, R_T = read_calib(RotMatrix)"
      ],
      "execution_count": null,
      "outputs": []
    },
    {
      "cell_type": "code",
      "metadata": {
        "colab": {
          "base_uri": "https://localhost:8080/"
        },
        "id": "VZMPMu1I1P6V",
        "outputId": "6b0009d2-05b5-4f2c-aae2-ebc5859a47a9"
      },
      "source": [
        "print(orig,'\\n\\n', R_T)"
      ],
      "execution_count": null,
      "outputs": [
        {
          "output_type": "stream",
          "text": [
            "[[-0.141 -0.251  1.404]] \n",
            "\n",
            " [[-0.04968733  0.27619518  0.96077129]\n",
            " [-0.00993747  0.95835113 -0.27631295]\n",
            " [-0.99871538 -0.02327689  0.023868  ]]\n"
          ],
          "name": "stdout"
        }
      ]
    },
    {
      "cell_type": "code",
      "metadata": {
        "colab": {
          "base_uri": "https://localhost:8080/"
        },
        "id": "FPxOklpm8pqT",
        "outputId": "dd9408b1-2506-42cc-989b-11c643c1eeac"
      },
      "source": [
        "# https://github.com/ddelago/Aruco-Marker-Calibration-and-Pose-Estimation\n",
        "# Load the Github camera calib profile \n",
        "f = open(\"Aruco-Marker-Calibration-and-Pose-Estimation/calibration/CameraCalibration.pckl\", 'rb')\n",
        "(cameraMatrix, distCoeffs, _, _) = pickle.load(f, encoding='latin1')\n",
        "f.close()\n",
        "\n",
        "# Kinect Calib data\n",
        "# https://github.com/shanilfernando/VRInteraction/blob/master/calibration/rgb_calibration.yaml\n",
        "# cameraMatrix = np.array([[ 1.0327407219495085e+03, 0., 9.5685930301206076e+02],\n",
        "#                          [ 0., 1.0323427647512485e+03, 5.3914133979587950e+02],\n",
        "#                          [0., 0., 1. ]])\n",
        "# distCoeffs=np.array([[ 2.0429028189430772e-02, -7.8399448855923665e-03, \n",
        "#                      -3.0949667668667908e-03, 2.1848647826377197e-03, -5.2344198896187882e-02 ]])\n",
        "\n",
        "print(cameraMatrix, distCoeffs )\n"
      ],
      "execution_count": null,
      "outputs": [
        {
          "output_type": "stream",
          "text": [
            "[[1.44095165e+03 0.00000000e+00 9.40438869e+02]\n",
            " [0.00000000e+00 1.43677267e+03 5.27992515e+02]\n",
            " [0.00000000e+00 0.00000000e+00 1.00000000e+00]] [[ 0.07833557 -0.51920323 -0.00682128 -0.00380227  1.04236729]]\n"
          ],
          "name": "stdout"
        }
      ]
    },
    {
      "cell_type": "code",
      "metadata": {
        "id": "yDgSJO47QXKm"
      },
      "source": [
        "#--- Define Tag\n",
        "id_to_find  = 72\n",
        "marker_size  = 6.4 #- [m]\n",
        "\n",
        "# Checks if a matrix is a valid rotation matrix.\n",
        "def isRotationMatrix(R):\n",
        "    Rt = np.transpose(R)\n",
        "    shouldBeIdentity = np.dot(Rt, R)\n",
        "    I = np.identity(3, dtype=R.dtype)\n",
        "    n = np.linalg.norm(I - shouldBeIdentity)\n",
        "    return n < 1e-6\n",
        "\n",
        "def rotationMatrixToEulerAngles(R):\n",
        "    assert (isRotationMatrix(R))\n",
        "\n",
        "    sy = math.sqrt(R[0, 0] * R[0, 0] + R[1, 0] * R[1, 0])\n",
        "\n",
        "    singular = sy < 1e-6\n",
        "\n",
        "    if not singular:\n",
        "        x = math.atan2(R[2, 1], R[2, 2])\n",
        "        y = math.atan2(-R[2, 0], sy)\n",
        "        z = math.atan2(R[1, 0], R[0, 0])\n",
        "    else:\n",
        "        x = math.atan2(-R[1, 2], R[1, 1])\n",
        "        y = math.atan2(-R[2, 0], sy)\n",
        "        z = 0\n",
        "\n",
        "    return np.array([x, y, z])\n",
        "\n",
        "R_flip  = np.zeros((3,3), dtype=np.float32)\n",
        "R_flip[0,0] = 1.0\n",
        "R_flip[1,1] =-1.0\n",
        "R_flip[2,2] =-1.0\n",
        "\n",
        "\n",
        "# Constant parameters used in Aruco methods\n",
        "ARUCO_PARAMETERS = aruco.DetectorParameters_create()\n",
        "ARUCO_DICT = aruco.Dictionary_get(aruco.DICT_5X5_50)\n",
        "\n",
        "# Create grid board object we're using in our video\n",
        "board = aruco.GridBoard_create(\n",
        "        markersX=1,\n",
        "        markersY=1,\n",
        "        markerLength=6.4,\n",
        "        markerSeparation=1,\n",
        "        dictionary=ARUCO_DICT)\n",
        "\n",
        "# Create vectors we'll be using for rotations and translations for postures\n",
        "rotation_vectors, translation_vectors = None, None\n",
        "\n",
        "#axis is just for visualisation of coordinate frame \n",
        "axis = np.float32([[-.5,-.5,0], [-.5,.5,0], [.5,.5,0], [.5,-.5,0],\n",
        "                   [-.5,-.5,1],[-.5,.5,1],[.5,.5,1],[.5,-.5,1] ])\n",
        "\n",
        "# https://stackoverflow.com/questions/46363618/aruco-markers-with-opencv-get-the-3d-corner-coordinates?rq=1\n",
        "def rotate_marker_corners(rvec, markersize, tvec = None):\n",
        "\n",
        "    mhalf = markersize / 2.0\n",
        "\n",
        "    # convert rot vector to rot matrix both do: markerworld -> cam-world\n",
        "    mrv, jacobian = cv2.Rodrigues(rvec)\n",
        "\n",
        "    #in markerworld the corners are all in the xy-plane so z is zero at first\n",
        "    X = mhalf * mrv[:,0] #rotate the x = mhalf\n",
        "    Y = mhalf * mrv[:,1] #rotate the y = mhalf\n",
        "    minusX = X * (-1)\n",
        "    minusY = Y * (-1)\n",
        "\n",
        "    # calculate 4 corners of the marker in camworld. corners are enumerated clockwise\n",
        "    markercorners = []\n",
        "    markercorners.append(np.add(minusX, Y)) #was upper left in markerworld\n",
        "    markercorners.append(np.add(X, Y)) #was upper right in markerworld\n",
        "    markercorners.append(np.add( X, minusY)) #was lower right in markerworld\n",
        "    markercorners.append(np.add(minusX, minusY)) #was lower left in markerworld\n",
        "    # if tvec given, move all by tvec\n",
        "    if tvec is not None:\n",
        "        C = tvec #center of marker in camworld\n",
        "        for i, mc in enumerate(markercorners):\n",
        "            markercorners[i] = np.add(C,mc) #add tvec to each corner\n",
        "    #print('Vec X, Y, C, dot(X,Y)', X,Y,C, np.dot(X,Y)) # just for debug\n",
        "    markercorners = np.array(markercorners,dtype=np.float32) # type needed when used as input to cv2\n",
        "    return markercorners, mrv"
      ],
      "execution_count": null,
      "outputs": []
    },
    {
      "cell_type": "code",
      "metadata": {
        "id": "jyytdzhWRl18"
      },
      "source": [
        "end_video_no =2\n",
        "kinect_df = {}\n",
        "for subject_number in range(1,end_video_no):\n",
        "  kinect_df_ =pd.DataFrame(columns=['time_raw','kx', 'ky', 'kz', 'ax', 'ay', 'az' ])\n",
        "  (height, width, layers) = (368,432,3)\n",
        "  fps=14.97\n",
        "  fourcc = cv2.VideoWriter_fourcc(*'MP42')\n",
        "  video = cv2.VideoWriter(\"Subject \"+str(subject_number)+\"/Subject \"+str(subject_number)+\n",
        "                          \"/Sub \"+str(subject_number)+\" SB/subject\"+str(subject_number)+\"_color_aruco.avi\", fourcc, float(fps), (width, height))\n",
        "  # video = cv2.VideoWriter(\"'drive'/'MyDrive'/'Aruco CMC project'/'subject1.mp4'\", fourcc, float(fps), (width, height))\n",
        "  i=0\n",
        "  with open(\"Subject \"+str(subject_number)+\"/Subject \"+str(subject_number)+\"/Sub \"+str(subject_number)+\" SB/color.pickle\",'rb') as color_img, \\\n",
        "       open(\"Subject \"+str(subject_number)+\"/Subject \"+str(subject_number)+\"/Sub \"+str(subject_number)+\" SB/xyz.pickle\",'rb') as depth_img, \\\n",
        "       open(\"Subject \"+str(subject_number)+\"/Subject \"+str(subject_number)+\"/Sub \"+str(subject_number)+\" SB/prm.pickle\",'rb') as prm:\n",
        "      while True:\n",
        "          try:\n",
        "            # Change RGB to BGR\n",
        "            color_image = pickle.load(color_img)\n",
        "            Depth_xyz = pickle.load(depth_img)\n",
        "            gray = cv2.cvtColor(color_image, cv2.COLOR_BGR2GRAY)\n",
        "\n",
        "            # Detect Aruco markers\n",
        "            corners, ids, rejectedImgPoints = aruco.detectMarkers(gray, dictionary=ARUCO_DICT, parameters=ARUCO_PARAMETERS)\n",
        "            # Refine detected markers\n",
        "            # Eliminates markers not part of our board, adds missing markers to the board\n",
        "            corners, ids, rejectedImgPoints, recoveredIds = aruco.refineDetectedMarkers(\n",
        "                image = gray,\n",
        "                board = board,\n",
        "                detectedCorners = corners,\n",
        "                detectedIds = ids,\n",
        "                rejectedCorners = rejectedImgPoints,\n",
        "                cameraMatrix = cameraMatrix,\n",
        "                distCoeffs = distCoeffs)\n",
        "            ProjectImage = aruco.drawDetectedMarkers(color_image, corners, borderColor=(0, 0, 255))\n",
        "            if ids is not None and len(ids) > 0:\n",
        "              # Estimate the posture per each Aruco marker\n",
        "              rotation_vectors, translation_vectors, _objPoints = aruco.estimatePoseSingleMarkers(corners, marker_size, cameraMatrix, distCoeffs)\n",
        "\n",
        "              markerCorner = np.array((corners)).reshape((4, 2))\n",
        "              (topLeft, topRight, bottomRight, bottomLeft) = markerCorner\n",
        "\n",
        "              # convert each of the (x, y)-coordinate pairs to integers\n",
        "              topRight = (int(topRight[0]), int(topRight[1]))\n",
        "              bottomRight = (int(bottomRight[0]), int(bottomRight[1]))\n",
        "              bottomLeft = (int(bottomLeft[0]), int(bottomLeft[1]))\n",
        "              topLeft = (int(topLeft[0]), int(topLeft[1]))\n",
        "\n",
        "              # draw the bounding box of the ArUCo detection\n",
        "              cv2.line(ProjectImage, topLeft, topRight, (0, 255, 0), 2)\n",
        "              cv2.line(ProjectImage, topRight, bottomRight, (0, 255, 0), 2)\n",
        "              cv2.line(ProjectImage, bottomRight, bottomLeft, (0, 255, 0), 2)\n",
        "              cv2.line(ProjectImage, bottomLeft, topLeft, (0, 255, 0), 2)\n",
        "\n",
        "              # compute and draw the center (x, y)-coordinates of the\n",
        "              # ArUco marker\n",
        "              cX = int((topLeft[0] + bottomRight[0]) / 2.0)\n",
        "              cY = int((topLeft[1] + bottomRight[1]) / 2.0)\n",
        "              cv2.circle(ProjectImage, (cX, cY), 4, (0, 0, 255), -1)\n",
        "\n",
        "              # 3D Aruco Coordinates \n",
        "              # markercorners_3d, mrv = rotate_marker_corners(rotation_vectors, markersize = 64, tvec = translation_vectors)\n",
        "              \n",
        "              # markerCorner_xyz = np.array((markercorners_3d)).reshape((4, 3))\n",
        "              # (topLeft, topRight, bottomRight, bottomLeft) = markerCorner_xyz\n",
        "\n",
        "              # # convert each of the (x, y)-coordinate pairs to integers\n",
        "              # topRight = (topRight[0], topRight[1], topRight[2])\n",
        "              # bottomRight = (bottomRight[0], bottomRight[1], bottomRight[2])\n",
        "              # bottomLeft = (bottomLeft[0], bottomLeft[1], bottomLeft[2])\n",
        "              # topLeft = (topLeft[0], topLeft[1], topLeft[2])\n",
        "              \n",
        "              # # compute  the center (x, y, z)-coordinates of the\n",
        "              # # ArUco marker\n",
        "              # cX_3d = (topLeft[0] + bottomRight[0]) / 2.0\n",
        "              # cY_3d = (topLeft[1] + bottomRight[1]) / 2.0\n",
        "              # cZ_3d = (topLeft[2] + bottomRight[2]) / 2.0\n",
        "              \n",
        "              kinectxyz = np.append(pd.to_datetime(pickle.load(prm)), kinect2table(orig,R_T,np.array([Depth_xyz[cY][cX]])))\n",
        "              # kxyz_axyz = np.append(kinectxyz, np.array([cX_3d, cY_3d, cZ_3d]))\n",
        "              # print(\"Depth raw \", (Depth_xyz[cY][cX]))\n",
        "              # print(\"tras vec \", translation_vectors)\n",
        "              # print(\"k data \", kinect2table(orig,R_T,np.array([Depth_xyz[cY][cX]])))\n",
        " \n",
        "              kxyz_axyz = np.append(kinectxyz, kinect2table(orig,R_T,translation_vectors))\n",
        "              kinect_df_.loc[len(kinect_df_)] = kxyz_axyz\n",
        "\n",
        "              # print(\"mark \", markercorners_)\n",
        "              # print(\"\\n  \", mrv)\n",
        "            #   for rvec, tvec in zip(rotation_vectors, translation_vectors):\n",
        "            #       if len(sys.argv) == 2 and sys.argv[1] == 'cube':\n",
        "            #           try:\n",
        "            #               imgpts, jac = cv2.projectPoints(axis, rvec, tvec, cameraMatrix, distCoeffs)\n",
        "            #               # ProjectImage = drawCube(ProjectImage, corners, imgpts)\n",
        "            #           except:\n",
        "            #               continue\n",
        "            #       else:    \n",
        "            #         pass\n",
        "            #           # ProjectImage = aruco.drawAxis(ProjectImage, cameraMatrix, distCoeffs, rvec, tvec, 1)\n",
        "            # # cv2.imshow('ProjectImage', ProjectImage)\n",
        "\n",
        "            # video.write(cv2.cvtColor(ProjectImage, cv2.COLOR_RGB2BGR))\n",
        "            i = i+1\n",
        "          except EOFError:\n",
        "            kinect_df_['time'] = (kinect_df_['time_raw'] -kinect_df_['time_raw'][0]).dt.total_seconds()\n",
        "            kinect_df[subject_number] = kinect_df_\n",
        "            break\n",
        "  # video.release()\n",
        "  # !ffmpeg -y -loglevel info -i subject3_color.avi subject3_color.mp4"
      ],
      "execution_count": null,
      "outputs": []
    },
    {
      "cell_type": "code",
      "metadata": {
        "colab": {
          "base_uri": "https://localhost:8080/",
          "height": 419
        },
        "id": "t-Hb9mOVZrEl",
        "outputId": "12d39f92-037e-4eb8-a923-833ac77aad2e"
      },
      "source": [
        "kinect_df[1]"
      ],
      "execution_count": null,
      "outputs": [
        {
          "output_type": "execute_result",
          "data": {
            "text/html": [
              "<div>\n",
              "<style scoped>\n",
              "    .dataframe tbody tr th:only-of-type {\n",
              "        vertical-align: middle;\n",
              "    }\n",
              "\n",
              "    .dataframe tbody tr th {\n",
              "        vertical-align: top;\n",
              "    }\n",
              "\n",
              "    .dataframe thead th {\n",
              "        text-align: right;\n",
              "    }\n",
              "</style>\n",
              "<table border=\"1\" class=\"dataframe\">\n",
              "  <thead>\n",
              "    <tr style=\"text-align: right;\">\n",
              "      <th></th>\n",
              "      <th>time_raw</th>\n",
              "      <th>kx</th>\n",
              "      <th>ky</th>\n",
              "      <th>kz</th>\n",
              "      <th>ax</th>\n",
              "      <th>ay</th>\n",
              "      <th>az</th>\n",
              "      <th>time</th>\n",
              "    </tr>\n",
              "  </thead>\n",
              "  <tbody>\n",
              "    <tr>\n",
              "      <th>0</th>\n",
              "      <td>2021-07-03 13:06:40.174130</td>\n",
              "      <td>-1299.337200</td>\n",
              "      <td>-122.149194</td>\n",
              "      <td>21.316264</td>\n",
              "      <td>-407.151808</td>\n",
              "      <td>-152.967232</td>\n",
              "      <td>-165.720405</td>\n",
              "      <td>0.000000</td>\n",
              "    </tr>\n",
              "    <tr>\n",
              "      <th>1</th>\n",
              "      <td>2021-07-03 13:06:40.241936</td>\n",
              "      <td>-1301.334630</td>\n",
              "      <td>-122.195748</td>\n",
              "      <td>21.364000</td>\n",
              "      <td>-407.151808</td>\n",
              "      <td>-152.967232</td>\n",
              "      <td>-165.720405</td>\n",
              "      <td>0.067806</td>\n",
              "    </tr>\n",
              "    <tr>\n",
              "      <th>2</th>\n",
              "      <td>2021-07-03 13:06:40.311387</td>\n",
              "      <td>-1304.330776</td>\n",
              "      <td>-122.265579</td>\n",
              "      <td>21.435604</td>\n",
              "      <td>-407.151808</td>\n",
              "      <td>-152.967232</td>\n",
              "      <td>-165.720405</td>\n",
              "      <td>0.137257</td>\n",
              "    </tr>\n",
              "    <tr>\n",
              "      <th>3</th>\n",
              "      <td>2021-07-03 13:06:40.374161</td>\n",
              "      <td>-1300.335915</td>\n",
              "      <td>-122.172471</td>\n",
              "      <td>21.340132</td>\n",
              "      <td>-407.151808</td>\n",
              "      <td>-152.967232</td>\n",
              "      <td>-165.720405</td>\n",
              "      <td>0.200031</td>\n",
              "    </tr>\n",
              "    <tr>\n",
              "      <th>4</th>\n",
              "      <td>2021-07-03 13:06:40.445442</td>\n",
              "      <td>-1301.334630</td>\n",
              "      <td>-122.195748</td>\n",
              "      <td>21.364000</td>\n",
              "      <td>-407.151808</td>\n",
              "      <td>-152.967232</td>\n",
              "      <td>-165.720405</td>\n",
              "      <td>0.271312</td>\n",
              "    </tr>\n",
              "    <tr>\n",
              "      <th>...</th>\n",
              "      <td>...</td>\n",
              "      <td>...</td>\n",
              "      <td>...</td>\n",
              "      <td>...</td>\n",
              "      <td>...</td>\n",
              "      <td>...</td>\n",
              "      <td>...</td>\n",
              "      <td>...</td>\n",
              "    </tr>\n",
              "    <tr>\n",
              "      <th>2064</th>\n",
              "      <td>2021-07-03 13:08:57.924399</td>\n",
              "      <td>-1299.878791</td>\n",
              "      <td>-125.616579</td>\n",
              "      <td>12.969503</td>\n",
              "      <td>-401.569261</td>\n",
              "      <td>-150.365917</td>\n",
              "      <td>-162.478961</td>\n",
              "      <td>137.750269</td>\n",
              "    </tr>\n",
              "    <tr>\n",
              "      <th>2065</th>\n",
              "      <td>2021-07-03 13:08:57.985404</td>\n",
              "      <td>-1299.878791</td>\n",
              "      <td>-125.616579</td>\n",
              "      <td>12.969503</td>\n",
              "      <td>-401.569261</td>\n",
              "      <td>-150.365917</td>\n",
              "      <td>-162.478961</td>\n",
              "      <td>137.811274</td>\n",
              "    </tr>\n",
              "    <tr>\n",
              "      <th>2066</th>\n",
              "      <td>2021-07-03 13:08:58.061788</td>\n",
              "      <td>-1296.882645</td>\n",
              "      <td>-125.546748</td>\n",
              "      <td>12.897899</td>\n",
              "      <td>-401.569261</td>\n",
              "      <td>-150.365917</td>\n",
              "      <td>-162.478961</td>\n",
              "      <td>137.887658</td>\n",
              "    </tr>\n",
              "    <tr>\n",
              "      <th>2067</th>\n",
              "      <td>2021-07-03 13:08:58.124285</td>\n",
              "      <td>-1297.881361</td>\n",
              "      <td>-125.570025</td>\n",
              "      <td>12.921767</td>\n",
              "      <td>-401.569261</td>\n",
              "      <td>-150.365917</td>\n",
              "      <td>-162.478961</td>\n",
              "      <td>137.950155</td>\n",
              "    </tr>\n",
              "    <tr>\n",
              "      <th>2068</th>\n",
              "      <td>2021-07-03 13:08:58.184878</td>\n",
              "      <td>-1300.877507</td>\n",
              "      <td>-125.639856</td>\n",
              "      <td>12.993371</td>\n",
              "      <td>-401.569261</td>\n",
              "      <td>-150.365917</td>\n",
              "      <td>-162.478961</td>\n",
              "      <td>138.010748</td>\n",
              "    </tr>\n",
              "  </tbody>\n",
              "</table>\n",
              "<p>2069 rows × 8 columns</p>\n",
              "</div>"
            ],
            "text/plain": [
              "                       time_raw           kx  ...          az        time\n",
              "0    2021-07-03 13:06:40.174130 -1299.337200  ... -165.720405    0.000000\n",
              "1    2021-07-03 13:06:40.241936 -1301.334630  ... -165.720405    0.067806\n",
              "2    2021-07-03 13:06:40.311387 -1304.330776  ... -165.720405    0.137257\n",
              "3    2021-07-03 13:06:40.374161 -1300.335915  ... -165.720405    0.200031\n",
              "4    2021-07-03 13:06:40.445442 -1301.334630  ... -165.720405    0.271312\n",
              "...                         ...          ...  ...         ...         ...\n",
              "2064 2021-07-03 13:08:57.924399 -1299.878791  ... -162.478961  137.750269\n",
              "2065 2021-07-03 13:08:57.985404 -1299.878791  ... -162.478961  137.811274\n",
              "2066 2021-07-03 13:08:58.061788 -1296.882645  ... -162.478961  137.887658\n",
              "2067 2021-07-03 13:08:58.124285 -1297.881361  ... -162.478961  137.950155\n",
              "2068 2021-07-03 13:08:58.184878 -1300.877507  ... -162.478961  138.010748\n",
              "\n",
              "[2069 rows x 8 columns]"
            ]
          },
          "metadata": {
            "tags": []
          },
          "execution_count": 143
        }
      ]
    },
    {
      "cell_type": "code",
      "metadata": {
        "id": "kTdciwdkKTRu",
        "colab": {
          "base_uri": "https://localhost:8080/"
        },
        "outputId": "6cecb9bd-9120-4669-fb69-dbf8d00a29d7"
      },
      "source": [
        "#Get kinect and mocap data \n",
        "# Get the time delay between Kinect and Mocap \n",
        "# Trunkate the data\n",
        "Time_delay={}\n",
        "df_mocap={}\n",
        "kinect_mocap = {}\n",
        "for video_no in range(1,2):\n",
        "  with open(\"Subject \"+str(video_no)+\"/Subject \"+str(video_no)+\"/Sub \"+str(video_no)+\" MC.csv\") as Mocap_data:\n",
        "\n",
        "      df_mocap[video_no] = pd.read_csv(Mocap_data)\n",
        "      opti_time = datetime.strptime(df_mocap[video_no].columns[11], '%Y-%m-%d %I.%M.%S.%f %p')\n",
        " \n",
        "      kinect_time = kinect_df[video_no]['time_raw'][0]\n",
        "\n",
        "      print(\"Kinect Start\", kinect_time,\" Opti Start\",opti_time)\n",
        "      Time_delay[video_no] = (kinect_time-opti_time).total_seconds()\n",
        "      print(Time_delay[video_no])\n",
        "      \n",
        "      df_mocap[video_no].columns = df_mocap[video_no].iloc[4][:2].append(df_mocap[video_no].loc[1][2:].str.replace(r':', '_') + df_mocap[video_no].loc[4][2:])\n",
        "      df_mocap[video_no] = df_mocap[video_no].iloc[5:].dropna(axis=1, how='all')\n",
        "      df_mocap[video_no] = df_mocap[video_no].reset_index(drop=True)\n",
        "      df_mocap[video_no] = df_mocap[video_no].astype(np.float64)\n",
        "      df_mocap[video_no]['time_matched'] = round(df_mocap[video_no]['Time (Seconds)'] - round(Time_delay[video_no],2),2)\n",
        "      \n",
        "      kinect_mocap[video_no] = kinect_df[video_no].copy()\n",
        "      kinect_mocap[video_no]['kx'] = kinect_mocap[video_no]['kx'].astype(int)\n",
        "      kinect_mocap[video_no]['ky'] = kinect_mocap[video_no]['ky'].astype(int)\n",
        "      kinect_mocap[video_no]['kz'] = kinect_mocap[video_no]['kz'].astype(int)\n",
        "      kinect_mocap[video_no]['time_matched'] = round(kinect_mocap[video_no]['time'],2)\n",
        "    \n",
        "      kinect_mocap[video_no] = kinect_mocap[video_no].merge(df_mocap[video_no], how='left', on='time_matched')"
      ],
      "execution_count": null,
      "outputs": [
        {
          "output_type": "stream",
          "text": [
            "Kinect Start 2021-07-03 13:06:40.174130  Opti Start 2021-07-03 13:06:38.066000\n",
            "2.10813\n"
          ],
          "name": "stdout"
        }
      ]
    },
    {
      "cell_type": "code",
      "metadata": {
        "colab": {
          "base_uri": "https://localhost:8080/",
          "height": 627
        },
        "id": "v3dj6lZFrIyg",
        "outputId": "6134782c-19c4-4d40-e484-b943c6db74d6"
      },
      "source": [
        "kinect_mocap[1]"
      ],
      "execution_count": null,
      "outputs": [
        {
          "output_type": "execute_result",
          "data": {
            "text/html": [
              "<div>\n",
              "<style scoped>\n",
              "    .dataframe tbody tr th:only-of-type {\n",
              "        vertical-align: middle;\n",
              "    }\n",
              "\n",
              "    .dataframe tbody tr th {\n",
              "        vertical-align: top;\n",
              "    }\n",
              "\n",
              "    .dataframe thead th {\n",
              "        text-align: right;\n",
              "    }\n",
              "</style>\n",
              "<table border=\"1\" class=\"dataframe\">\n",
              "  <thead>\n",
              "    <tr style=\"text-align: right;\">\n",
              "      <th></th>\n",
              "      <th>time_raw</th>\n",
              "      <th>kx</th>\n",
              "      <th>ky</th>\n",
              "      <th>kz</th>\n",
              "      <th>ax</th>\n",
              "      <th>ay</th>\n",
              "      <th>az</th>\n",
              "      <th>time</th>\n",
              "      <th>time_matched</th>\n",
              "      <th>Frame</th>\n",
              "      <th>Time (Seconds)</th>\n",
              "      <th>Skateboard_LX</th>\n",
              "      <th>Skateboard_LY</th>\n",
              "      <th>Skateboard_LZ</th>\n",
              "      <th>Skateboard_MX</th>\n",
              "      <th>Skateboard_MY</th>\n",
              "      <th>Skateboard_MZ</th>\n",
              "      <th>Skateboard_RX</th>\n",
              "      <th>Skateboard_RY</th>\n",
              "      <th>Skateboard_RZ</th>\n",
              "    </tr>\n",
              "  </thead>\n",
              "  <tbody>\n",
              "    <tr>\n",
              "      <th>0</th>\n",
              "      <td>2021-07-03 13:06:40.174130</td>\n",
              "      <td>-1299</td>\n",
              "      <td>-122</td>\n",
              "      <td>21</td>\n",
              "      <td>-407.151808</td>\n",
              "      <td>-152.967232</td>\n",
              "      <td>-165.720405</td>\n",
              "      <td>0.000000</td>\n",
              "      <td>0.00</td>\n",
              "      <td>211.0</td>\n",
              "      <td>2.11</td>\n",
              "      <td>0.092452</td>\n",
              "      <td>0.164462</td>\n",
              "      <td>0.062553</td>\n",
              "      <td>-0.017252</td>\n",
              "      <td>0.165659</td>\n",
              "      <td>0.050991</td>\n",
              "      <td>0.083946</td>\n",
              "      <td>0.164684</td>\n",
              "      <td>0.166725</td>\n",
              "    </tr>\n",
              "    <tr>\n",
              "      <th>1</th>\n",
              "      <td>2021-07-03 13:06:40.241936</td>\n",
              "      <td>-1301</td>\n",
              "      <td>-122</td>\n",
              "      <td>21</td>\n",
              "      <td>-407.151808</td>\n",
              "      <td>-152.967232</td>\n",
              "      <td>-165.720405</td>\n",
              "      <td>0.067806</td>\n",
              "      <td>0.07</td>\n",
              "      <td>218.0</td>\n",
              "      <td>2.18</td>\n",
              "      <td>0.092459</td>\n",
              "      <td>0.164454</td>\n",
              "      <td>0.062543</td>\n",
              "      <td>-0.017229</td>\n",
              "      <td>0.165662</td>\n",
              "      <td>0.050991</td>\n",
              "      <td>0.083951</td>\n",
              "      <td>0.164687</td>\n",
              "      <td>0.166729</td>\n",
              "    </tr>\n",
              "    <tr>\n",
              "      <th>2</th>\n",
              "      <td>2021-07-03 13:06:40.311387</td>\n",
              "      <td>-1304</td>\n",
              "      <td>-122</td>\n",
              "      <td>21</td>\n",
              "      <td>-407.151808</td>\n",
              "      <td>-152.967232</td>\n",
              "      <td>-165.720405</td>\n",
              "      <td>0.137257</td>\n",
              "      <td>0.14</td>\n",
              "      <td>225.0</td>\n",
              "      <td>2.25</td>\n",
              "      <td>0.092470</td>\n",
              "      <td>0.164453</td>\n",
              "      <td>0.062553</td>\n",
              "      <td>-0.017233</td>\n",
              "      <td>0.165692</td>\n",
              "      <td>0.050985</td>\n",
              "      <td>0.083955</td>\n",
              "      <td>0.164687</td>\n",
              "      <td>0.166733</td>\n",
              "    </tr>\n",
              "    <tr>\n",
              "      <th>3</th>\n",
              "      <td>2021-07-03 13:06:40.374161</td>\n",
              "      <td>-1300</td>\n",
              "      <td>-122</td>\n",
              "      <td>21</td>\n",
              "      <td>-407.151808</td>\n",
              "      <td>-152.967232</td>\n",
              "      <td>-165.720405</td>\n",
              "      <td>0.200031</td>\n",
              "      <td>0.20</td>\n",
              "      <td>231.0</td>\n",
              "      <td>2.31</td>\n",
              "      <td>0.092476</td>\n",
              "      <td>0.164452</td>\n",
              "      <td>0.062551</td>\n",
              "      <td>-0.017225</td>\n",
              "      <td>0.165667</td>\n",
              "      <td>0.051005</td>\n",
              "      <td>0.083948</td>\n",
              "      <td>0.164729</td>\n",
              "      <td>0.166729</td>\n",
              "    </tr>\n",
              "    <tr>\n",
              "      <th>4</th>\n",
              "      <td>2021-07-03 13:06:40.445442</td>\n",
              "      <td>-1301</td>\n",
              "      <td>-122</td>\n",
              "      <td>21</td>\n",
              "      <td>-407.151808</td>\n",
              "      <td>-152.967232</td>\n",
              "      <td>-165.720405</td>\n",
              "      <td>0.271312</td>\n",
              "      <td>0.27</td>\n",
              "      <td>238.0</td>\n",
              "      <td>2.38</td>\n",
              "      <td>0.092465</td>\n",
              "      <td>0.164435</td>\n",
              "      <td>0.062536</td>\n",
              "      <td>-0.017235</td>\n",
              "      <td>0.165671</td>\n",
              "      <td>0.050968</td>\n",
              "      <td>0.083944</td>\n",
              "      <td>0.164706</td>\n",
              "      <td>0.166720</td>\n",
              "    </tr>\n",
              "    <tr>\n",
              "      <th>...</th>\n",
              "      <td>...</td>\n",
              "      <td>...</td>\n",
              "      <td>...</td>\n",
              "      <td>...</td>\n",
              "      <td>...</td>\n",
              "      <td>...</td>\n",
              "      <td>...</td>\n",
              "      <td>...</td>\n",
              "      <td>...</td>\n",
              "      <td>...</td>\n",
              "      <td>...</td>\n",
              "      <td>...</td>\n",
              "      <td>...</td>\n",
              "      <td>...</td>\n",
              "      <td>...</td>\n",
              "      <td>...</td>\n",
              "      <td>...</td>\n",
              "      <td>...</td>\n",
              "      <td>...</td>\n",
              "      <td>...</td>\n",
              "    </tr>\n",
              "    <tr>\n",
              "      <th>2064</th>\n",
              "      <td>2021-07-03 13:08:57.924399</td>\n",
              "      <td>-1299</td>\n",
              "      <td>-125</td>\n",
              "      <td>12</td>\n",
              "      <td>-401.569261</td>\n",
              "      <td>-150.365917</td>\n",
              "      <td>-162.478961</td>\n",
              "      <td>137.750269</td>\n",
              "      <td>137.75</td>\n",
              "      <td>13986.0</td>\n",
              "      <td>139.86</td>\n",
              "      <td>-0.032475</td>\n",
              "      <td>0.170821</td>\n",
              "      <td>0.438753</td>\n",
              "      <td>-0.095420</td>\n",
              "      <td>0.170506</td>\n",
              "      <td>0.347891</td>\n",
              "      <td>-0.116139</td>\n",
              "      <td>0.171077</td>\n",
              "      <td>0.500727</td>\n",
              "    </tr>\n",
              "    <tr>\n",
              "      <th>2065</th>\n",
              "      <td>2021-07-03 13:08:57.985404</td>\n",
              "      <td>-1299</td>\n",
              "      <td>-125</td>\n",
              "      <td>12</td>\n",
              "      <td>-401.569261</td>\n",
              "      <td>-150.365917</td>\n",
              "      <td>-162.478961</td>\n",
              "      <td>137.811274</td>\n",
              "      <td>137.81</td>\n",
              "      <td>13992.0</td>\n",
              "      <td>139.92</td>\n",
              "      <td>-0.033557</td>\n",
              "      <td>0.170989</td>\n",
              "      <td>0.439499</td>\n",
              "      <td>-0.096197</td>\n",
              "      <td>0.170603</td>\n",
              "      <td>0.348528</td>\n",
              "      <td>-0.117501</td>\n",
              "      <td>0.171057</td>\n",
              "      <td>0.501207</td>\n",
              "    </tr>\n",
              "    <tr>\n",
              "      <th>2066</th>\n",
              "      <td>2021-07-03 13:08:58.061788</td>\n",
              "      <td>-1296</td>\n",
              "      <td>-125</td>\n",
              "      <td>12</td>\n",
              "      <td>-401.569261</td>\n",
              "      <td>-150.365917</td>\n",
              "      <td>-162.478961</td>\n",
              "      <td>137.887658</td>\n",
              "      <td>137.89</td>\n",
              "      <td>14000.0</td>\n",
              "      <td>140.00</td>\n",
              "      <td>-0.034498</td>\n",
              "      <td>0.171038</td>\n",
              "      <td>0.440447</td>\n",
              "      <td>-0.096837</td>\n",
              "      <td>0.170609</td>\n",
              "      <td>0.349163</td>\n",
              "      <td>-0.118590</td>\n",
              "      <td>0.171184</td>\n",
              "      <td>0.501866</td>\n",
              "    </tr>\n",
              "    <tr>\n",
              "      <th>2067</th>\n",
              "      <td>2021-07-03 13:08:58.124285</td>\n",
              "      <td>-1297</td>\n",
              "      <td>-125</td>\n",
              "      <td>12</td>\n",
              "      <td>-401.569261</td>\n",
              "      <td>-150.365917</td>\n",
              "      <td>-162.478961</td>\n",
              "      <td>137.950155</td>\n",
              "      <td>137.95</td>\n",
              "      <td>14006.0</td>\n",
              "      <td>140.06</td>\n",
              "      <td>-0.034691</td>\n",
              "      <td>0.171063</td>\n",
              "      <td>0.440620</td>\n",
              "      <td>-0.097016</td>\n",
              "      <td>0.170595</td>\n",
              "      <td>0.349367</td>\n",
              "      <td>-0.118851</td>\n",
              "      <td>0.171197</td>\n",
              "      <td>0.502064</td>\n",
              "    </tr>\n",
              "    <tr>\n",
              "      <th>2068</th>\n",
              "      <td>2021-07-03 13:08:58.184878</td>\n",
              "      <td>-1300</td>\n",
              "      <td>-125</td>\n",
              "      <td>12</td>\n",
              "      <td>-401.569261</td>\n",
              "      <td>-150.365917</td>\n",
              "      <td>-162.478961</td>\n",
              "      <td>138.010748</td>\n",
              "      <td>138.01</td>\n",
              "      <td>14012.0</td>\n",
              "      <td>140.12</td>\n",
              "      <td>-0.034652</td>\n",
              "      <td>0.171039</td>\n",
              "      <td>0.440582</td>\n",
              "      <td>-0.096948</td>\n",
              "      <td>0.170536</td>\n",
              "      <td>0.349322</td>\n",
              "      <td>-0.118811</td>\n",
              "      <td>0.171207</td>\n",
              "      <td>0.502021</td>\n",
              "    </tr>\n",
              "  </tbody>\n",
              "</table>\n",
              "<p>2069 rows × 20 columns</p>\n",
              "</div>"
            ],
            "text/plain": [
              "                       time_raw    kx  ...  Skateboard_RY  Skateboard_RZ\n",
              "0    2021-07-03 13:06:40.174130 -1299  ...       0.164684       0.166725\n",
              "1    2021-07-03 13:06:40.241936 -1301  ...       0.164687       0.166729\n",
              "2    2021-07-03 13:06:40.311387 -1304  ...       0.164687       0.166733\n",
              "3    2021-07-03 13:06:40.374161 -1300  ...       0.164729       0.166729\n",
              "4    2021-07-03 13:06:40.445442 -1301  ...       0.164706       0.166720\n",
              "...                         ...   ...  ...            ...            ...\n",
              "2064 2021-07-03 13:08:57.924399 -1299  ...       0.171077       0.500727\n",
              "2065 2021-07-03 13:08:57.985404 -1299  ...       0.171057       0.501207\n",
              "2066 2021-07-03 13:08:58.061788 -1296  ...       0.171184       0.501866\n",
              "2067 2021-07-03 13:08:58.124285 -1297  ...       0.171197       0.502064\n",
              "2068 2021-07-03 13:08:58.184878 -1300  ...       0.171207       0.502021\n",
              "\n",
              "[2069 rows x 20 columns]"
            ]
          },
          "metadata": {
            "tags": []
          },
          "execution_count": 145
        }
      ]
    },
    {
      "cell_type": "code",
      "metadata": {
        "id": "7TBKiVd4agUC"
      },
      "source": [
        "kinect_mocap[11] = kinect_mocap[1] - kinect_mocap[1].loc[0].values.squeeze()\n",
        "\n",
        "# savgol filter\n",
        "kinect_mocap[11] = kinect_mocap[11].apply(my_filter)\n",
        "# Outlier Removal\n",
        "kinect_mocap[11] = kinect_mocap[11][(np.abs(stats.zscore(kinect_mocap[11])) < 3).all(axis=1)]\n",
        "\n",
        "\n",
        "# kinect_mocap[22] = kinect_mocap[2] - kinect_mocap[2].loc[0].values.squeeze()\n",
        "# # savgol filter\n",
        "# kinect_mocap[22] = kinect_mocap[22].apply(my_filter)\n",
        "# # Outlier Removal\n",
        "# kinect_mocap[22] = kinect_mocap[22][(np.abs(stats.zscore(kinect_mocap[22])) < 3).all(axis=1)]\n"
      ],
      "execution_count": null,
      "outputs": []
    },
    {
      "cell_type": "code",
      "metadata": {
        "colab": {
          "base_uri": "https://localhost:8080/",
          "height": 369
        },
        "id": "JtCiGIQypLeZ",
        "outputId": "434e4adc-f42a-4dd6-fe75-34b046be1c32"
      },
      "source": [
        "fig, ax = plt.subplots(3,3)\n",
        "# Note that ax is now an array consisting of the individual axis\n",
        "plt.xlabel('fps')\n",
        "plt.ylabel('distance')\n",
        "\n",
        "ax[0,0].plot(kinect_mocap[11]['ax'])\n",
        "ax[0,0].set_title('ax')\n",
        "ax[0,0].set_xlabel('fps')\n",
        "ax[0,0].set_ylabel('distance')\n",
        "\n",
        "ax[0,1].plot(kinect_mocap[11]['ay'])\n",
        "ax[0,1].set_title('ay')\n",
        "ax[0,1].set_xlabel('fps')\n",
        "ax[0,1].set_ylabel('distance')\n",
        "\n",
        "ax[0,2].plot(kinect_mocap[11]['az'])\n",
        "ax[0,2].set_title('az')\n",
        "ax[0,2].set_xlabel('fps')\n",
        "ax[0,2].set_ylabel('distance')\n",
        "\n",
        "ax[1,0].plot(kinect_mocap[11]['Skateboard_LX'])\n",
        "ax[1,0].set_title('LX')\n",
        "ax[1,0].set_xlabel('fps')\n",
        "ax[1,0].set_ylabel('distance')\n",
        "\n",
        "ax[1,1].plot(kinect_mocap[11]['Skateboard_LY'])\n",
        "ax[1,1].set_title('LY')\n",
        "ax[1,1].set_xlabel('fps')\n",
        "ax[1,1].set_ylabel('distance')\n",
        "\n",
        "ax[1,2].plot(kinect_mocap[11]['Skateboard_LZ'])\n",
        "ax[1,2].set_title('LZ')\n",
        "ax[1,2].set_xlabel('fps')\n",
        "ax[1,2].set_ylabel('distance')\n",
        "\n",
        "ax[2,0].plot(kinect_mocap[11]['kx'])\n",
        "ax[2,0].set_title('KX')\n",
        "ax[2,0].set_xlabel('fps')\n",
        "ax[2,0].set_ylabel('distance')\n",
        "\n",
        "ax[2,1].plot(kinect_mocap[11]['ky'])\n",
        "ax[2,1].set_title('KY')\n",
        "ax[2,1].set_xlabel('fps')\n",
        "ax[2,1].set_ylabel('distance')\n",
        "\n",
        "ax[2,2].plot(kinect_mocap[11]['kz'])\n",
        "ax[2,2].set_title('KZ')\n",
        "ax[2,2].set_xlabel('fps')\n",
        "ax[2,2].set_ylabel('distance')\n",
        "\n",
        "\n",
        "\n",
        "plt.tight_layout()"
      ],
      "execution_count": null,
      "outputs": [
        {
          "output_type": "display_data",
          "data": {
            "image/png": "[encoded data removed]",
            "text/plain": [
              "<Figure size 720x360 with 9 Axes>"
            ]
          },
          "metadata": {
            "tags": [],
            "needs_background": "light"
          }
        }
      ]
    },
    {
      "cell_type": "code",
      "metadata": {
        "id": "2LrJx5CWMTDt"
      },
      "source": [
        ""
      ],
      "execution_count": null,
      "outputs": []
    }
  ]
}